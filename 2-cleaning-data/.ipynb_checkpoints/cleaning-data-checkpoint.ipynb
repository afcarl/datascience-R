{
 "cells": [
  {
   "cell_type": "markdown",
   "metadata": {},
   "source": [
    "# Here's what messy data look like\n",
    "\n",
    "Overview dữ liệu\n",
    "\n",
    "Data `BMI` from https://www1.imperial.ac.uk/publichealth/departments/ebs/projects/eresh/majidezzati/healthmetrics/metabolicriskfactors/"
   ]
  },
  {
   "cell_type": "code",
   "execution_count": 9,
   "metadata": {
    "collapsed": false
   },
   "outputs": [],
   "source": [
    "load('/home/duyetdev/Downloads/Mumbai2013.RData')\n",
    "write.csv(Mumbai2013, 'mumbai2013.csv')"
   ]
  },
  {
   "cell_type": "code",
   "execution_count": 13,
   "metadata": {
    "collapsed": false
   },
   "outputs": [],
   "source": [
    "Mumbai2013 <- read.csv('./mumbai2013.csv')"
   ]
  },
  {
   "cell_type": "code",
   "execution_count": 14,
   "metadata": {
    "collapsed": false
   },
   "outputs": [
    {
     "data": {
      "text/html": [
       "<table>\n",
       "<thead><tr><th scope=col>X</th><th scope=col>Time</th><th scope=col>Temperature</th></tr></thead>\n",
       "<tbody>\n",
       "\t<tr><td>1                  </td><td>2013-01-01 00:10:00</td><td>75.2               </td></tr>\n",
       "\t<tr><td>2                  </td><td>2013-01-01 00:40:00</td><td>75.2               </td></tr>\n",
       "\t<tr><td>3                  </td><td>2013-01-01 01:10:00</td><td>75.2               </td></tr>\n",
       "\t<tr><td>4                  </td><td>2013-01-01 01:40:00</td><td>73.4               </td></tr>\n",
       "\t<tr><td>5                  </td><td>2013-01-01 02:10:00</td><td>73.4               </td></tr>\n",
       "\t<tr><td>6                  </td><td>2013-01-01 02:30:00</td><td>71.0               </td></tr>\n",
       "</tbody>\n",
       "</table>\n"
      ],
      "text/latex": [
       "\\begin{tabular}{r|lll}\n",
       " X & Time & Temperature\\\\\n",
       "\\hline\n",
       "\t 1                   & 2013-01-01 00:10:00 & 75.2               \\\\\n",
       "\t 2                   & 2013-01-01 00:40:00 & 75.2               \\\\\n",
       "\t 3                   & 2013-01-01 01:10:00 & 75.2               \\\\\n",
       "\t 4                   & 2013-01-01 01:40:00 & 73.4               \\\\\n",
       "\t 5                   & 2013-01-01 02:10:00 & 73.4               \\\\\n",
       "\t 6                   & 2013-01-01 02:30:00 & 71.0               \\\\\n",
       "\\end{tabular}\n"
      ],
      "text/markdown": [
       "\n",
       "X | Time | Temperature | \n",
       "|---|---|---|---|---|---|\n",
       "| 1                   | 2013-01-01 00:10:00 | 75.2                | \n",
       "| 2                   | 2013-01-01 00:40:00 | 75.2                | \n",
       "| 3                   | 2013-01-01 01:10:00 | 75.2                | \n",
       "| 4                   | 2013-01-01 01:40:00 | 73.4                | \n",
       "| 5                   | 2013-01-01 02:10:00 | 73.4                | \n",
       "| 6                   | 2013-01-01 02:30:00 | 71.0                | \n",
       "\n",
       "\n"
      ],
      "text/plain": [
       "  X Time                Temperature\n",
       "1 1 2013-01-01 00:10:00 75.2       \n",
       "2 2 2013-01-01 00:40:00 75.2       \n",
       "3 3 2013-01-01 01:10:00 75.2       \n",
       "4 4 2013-01-01 01:40:00 73.4       \n",
       "5 5 2013-01-01 02:10:00 73.4       \n",
       "6 6 2013-01-01 02:30:00 71.0       "
      ]
     },
     "metadata": {},
     "output_type": "display_data"
    }
   ],
   "source": [
    "# Xem 6 dòng đầu\n",
    "head(Mumbai2013)"
   ]
  },
  {
   "cell_type": "code",
   "execution_count": 15,
   "metadata": {
    "collapsed": false
   },
   "outputs": [
    {
     "data": {
      "text/html": [
       "<table>\n",
       "<thead><tr><th></th><th scope=col>X</th><th scope=col>Time</th><th scope=col>Temperature</th></tr></thead>\n",
       "<tbody>\n",
       "\t<tr><th scope=row>18319</th><td>18319              </td><td>2013-12-31 20:10:00</td><td>77.0               </td></tr>\n",
       "\t<tr><th scope=row>18320</th><td>18320              </td><td>2013-12-31 20:30:00</td><td>76.0               </td></tr>\n",
       "\t<tr><th scope=row>18321</th><td>18321              </td><td>2013-12-31 20:40:00</td><td>77.0               </td></tr>\n",
       "\t<tr><th scope=row>18322</th><td>18322              </td><td>2013-12-31 21:10:00</td><td>77.0               </td></tr>\n",
       "\t<tr><th scope=row>18323</th><td>18323              </td><td>2013-12-31 21:40:00</td><td>77.0               </td></tr>\n",
       "\t<tr><th scope=row>18324</th><td>18324              </td><td>2013-12-31 22:10:00</td><td>75.2               </td></tr>\n",
       "\t<tr><th scope=row>18325</th><td>18325              </td><td>2013-12-31 22:40:00</td><td>75.2               </td></tr>\n",
       "\t<tr><th scope=row>18326</th><td>18326              </td><td>2013-12-31 23:10:00</td><td>75.2               </td></tr>\n",
       "\t<tr><th scope=row>18327</th><td>18327              </td><td>2013-12-31 23:30:00</td><td>72.0               </td></tr>\n",
       "\t<tr><th scope=row>18328</th><td>18328              </td><td>2013-12-31 23:40:00</td><td>75.2               </td></tr>\n",
       "</tbody>\n",
       "</table>\n"
      ],
      "text/latex": [
       "\\begin{tabular}{r|lll}\n",
       "  & X & Time & Temperature\\\\\n",
       "\\hline\n",
       "\t18319 & 18319               & 2013-12-31 20:10:00 & 77.0               \\\\\n",
       "\t18320 & 18320               & 2013-12-31 20:30:00 & 76.0               \\\\\n",
       "\t18321 & 18321               & 2013-12-31 20:40:00 & 77.0               \\\\\n",
       "\t18322 & 18322               & 2013-12-31 21:10:00 & 77.0               \\\\\n",
       "\t18323 & 18323               & 2013-12-31 21:40:00 & 77.0               \\\\\n",
       "\t18324 & 18324               & 2013-12-31 22:10:00 & 75.2               \\\\\n",
       "\t18325 & 18325               & 2013-12-31 22:40:00 & 75.2               \\\\\n",
       "\t18326 & 18326               & 2013-12-31 23:10:00 & 75.2               \\\\\n",
       "\t18327 & 18327               & 2013-12-31 23:30:00 & 72.0               \\\\\n",
       "\t18328 & 18328               & 2013-12-31 23:40:00 & 75.2               \\\\\n",
       "\\end{tabular}\n"
      ],
      "text/markdown": [
       "\n",
       "| <!--/--> | X | Time | Temperature | \n",
       "|---|---|---|---|---|---|---|---|---|---|\n",
       "| 18319 | 18319               | 2013-12-31 20:10:00 | 77.0                | \n",
       "| 18320 | 18320               | 2013-12-31 20:30:00 | 76.0                | \n",
       "| 18321 | 18321               | 2013-12-31 20:40:00 | 77.0                | \n",
       "| 18322 | 18322               | 2013-12-31 21:10:00 | 77.0                | \n",
       "| 18323 | 18323               | 2013-12-31 21:40:00 | 77.0                | \n",
       "| 18324 | 18324               | 2013-12-31 22:10:00 | 75.2                | \n",
       "| 18325 | 18325               | 2013-12-31 22:40:00 | 75.2                | \n",
       "| 18326 | 18326               | 2013-12-31 23:10:00 | 75.2                | \n",
       "| 18327 | 18327               | 2013-12-31 23:30:00 | 72.0                | \n",
       "| 18328 | 18328               | 2013-12-31 23:40:00 | 75.2                | \n",
       "\n",
       "\n"
      ],
      "text/plain": [
       "      X     Time                Temperature\n",
       "18319 18319 2013-12-31 20:10:00 77.0       \n",
       "18320 18320 2013-12-31 20:30:00 76.0       \n",
       "18321 18321 2013-12-31 20:40:00 77.0       \n",
       "18322 18322 2013-12-31 21:10:00 77.0       \n",
       "18323 18323 2013-12-31 21:40:00 77.0       \n",
       "18324 18324 2013-12-31 22:10:00 75.2       \n",
       "18325 18325 2013-12-31 22:40:00 75.2       \n",
       "18326 18326 2013-12-31 23:10:00 75.2       \n",
       "18327 18327 2013-12-31 23:30:00 72.0       \n",
       "18328 18328 2013-12-31 23:40:00 75.2       "
      ]
     },
     "metadata": {},
     "output_type": "display_data"
    }
   ],
   "source": [
    "# Xem 10 dòng cuối\n",
    "tail(Mumbai2013, n = 10)"
   ]
  },
  {
   "cell_type": "code",
   "execution_count": 16,
   "metadata": {
    "collapsed": false
   },
   "outputs": [
    {
     "name": "stdout",
     "output_type": "stream",
     "text": [
      "'data.frame':\t18328 obs. of  3 variables:\n",
      " $ X          : int  1 2 3 4 5 6 7 8 9 10 ...\n",
      " $ Time       : Factor w/ 18328 levels \"2013-01-01 00:10:00\",..: 1 2 3 4 5 6 7 8 9 10 ...\n",
      " $ Temperature: num  75.2 75.2 75.2 73.4 73.4 71 73.4 73.4 75.2 73.4 ...\n"
     ]
    }
   ],
   "source": [
    "# Cấu trúc (struct), mô tả dataframe\n",
    "str(Mumbai2013)"
   ]
  },
  {
   "cell_type": "code",
   "execution_count": 17,
   "metadata": {
    "collapsed": false
   },
   "outputs": [
    {
     "data": {
      "text/html": [
       "<ol class=list-inline>\n",
       "\t<li>18328</li>\n",
       "\t<li>3</li>\n",
       "</ol>\n"
      ],
      "text/latex": [
       "\\begin{enumerate*}\n",
       "\\item 18328\n",
       "\\item 3\n",
       "\\end{enumerate*}\n"
      ],
      "text/markdown": [
       "1. 18328\n",
       "2. 3\n",
       "\n",
       "\n"
      ],
      "text/plain": [
       "[1] 18328     3"
      ]
     },
     "metadata": {},
     "output_type": "display_data"
    }
   ],
   "source": [
    "# Chiều \n",
    "dim(Mumbai2013)"
   ]
  },
  {
   "cell_type": "code",
   "execution_count": 18,
   "metadata": {
    "collapsed": false
   },
   "outputs": [
    {
     "data": {
      "text/html": [
       "<ol class=list-inline>\n",
       "\t<li>'X'</li>\n",
       "\t<li>'Time'</li>\n",
       "\t<li>'Temperature'</li>\n",
       "</ol>\n"
      ],
      "text/latex": [
       "\\begin{enumerate*}\n",
       "\\item 'X'\n",
       "\\item 'Time'\n",
       "\\item 'Temperature'\n",
       "\\end{enumerate*}\n"
      ],
      "text/markdown": [
       "1. 'X'\n",
       "2. 'Time'\n",
       "3. 'Temperature'\n",
       "\n",
       "\n"
      ],
      "text/plain": [
       "[1] \"X\"           \"Time\"        \"Temperature\""
      ]
     },
     "metadata": {},
     "output_type": "display_data"
    }
   ],
   "source": [
    "# Danh sách các cột\n",
    "names(Mumbai2013)"
   ]
  },
  {
   "cell_type": "code",
   "execution_count": 19,
   "metadata": {
    "collapsed": false
   },
   "outputs": [
    {
     "data": {
      "text/html": [
       "'data.frame'"
      ],
      "text/latex": [
       "'data.frame'"
      ],
      "text/markdown": [
       "'data.frame'"
      ],
      "text/plain": [
       "[1] \"data.frame\""
      ]
     },
     "metadata": {},
     "output_type": "display_data"
    }
   ],
   "source": [
    "# Class name\n",
    "class(Mumbai2013)"
   ]
  },
  {
   "cell_type": "markdown",
   "metadata": {
    "collapsed": true
   },
   "source": [
    "# Thư viện library(dplyr)"
   ]
  },
  {
   "cell_type": "code",
   "execution_count": 20,
   "metadata": {
    "collapsed": false
   },
   "outputs": [
    {
     "name": "stderr",
     "output_type": "stream",
     "text": [
      "\n",
      "Attaching package: ‘dplyr’\n",
      "\n",
      "The following objects are masked from ‘package:stats’:\n",
      "\n",
      "    filter, lag\n",
      "\n",
      "The following objects are masked from ‘package:base’:\n",
      "\n",
      "    intersect, setdiff, setequal, union\n",
      "\n"
     ]
    }
   ],
   "source": [
    "library(dplyr)"
   ]
  },
  {
   "cell_type": "code",
   "execution_count": 21,
   "metadata": {
    "collapsed": false
   },
   "outputs": [
    {
     "data": {
      "text/plain": [
       "       X                          Time        Temperature    \n",
       " Min.   :    1   2013-01-01 00:10:00:    1   Min.   : 53.00  \n",
       " 1st Qu.: 4583   2013-01-01 00:40:00:    1   1st Qu.: 78.80  \n",
       " Median : 9164   2013-01-01 01:10:00:    1   Median : 82.40  \n",
       " Mean   : 9164   2013-01-01 01:40:00:    1   Mean   : 81.79  \n",
       " 3rd Qu.:13746   2013-01-01 02:10:00:    1   3rd Qu.: 86.00  \n",
       " Max.   :18328   2013-01-01 02:30:00:    1   Max.   :102.20  \n",
       "                 (Other)            :18322                   "
      ]
     },
     "metadata": {},
     "output_type": "display_data"
    }
   ],
   "source": [
    "# Summary dataframe\n",
    "summary(Mumbai2013)"
   ]
  },
  {
   "cell_type": "code",
   "execution_count": 22,
   "metadata": {
    "collapsed": false
   },
   "outputs": [
    {
     "name": "stdout",
     "output_type": "stream",
     "text": [
      "Observations: 18,328\n",
      "Variables: 3\n",
      "$ X           <int> 1, 2, 3, 4, 5, 6, 7, 8, 9, 10, 11, 12, 13, 14, 15, 16, ...\n",
      "$ Time        <fctr> 2013-01-01 00:10:00, 2013-01-01 00:40:00, 2013-01-01 0...\n",
      "$ Temperature <dbl> 75.2, 75.2, 75.2, 73.4, 73.4, 71.0, 73.4, 73.4, 75.2, 7...\n"
     ]
    }
   ],
   "source": [
    "glimpse(Mumbai2013)"
   ]
  },
  {
   "cell_type": "code",
   "execution_count": null,
   "metadata": {
    "collapsed": true
   },
   "outputs": [],
   "source": []
  },
  {
   "cell_type": "code",
   "execution_count": null,
   "metadata": {
    "collapsed": true
   },
   "outputs": [],
   "source": []
  },
  {
   "cell_type": "code",
   "execution_count": null,
   "metadata": {
    "collapsed": true
   },
   "outputs": [],
   "source": []
  }
 ],
 "metadata": {
  "kernelspec": {
   "display_name": "R",
   "language": "R",
   "name": "ir"
  },
  "language_info": {
   "codemirror_mode": "r",
   "file_extension": ".r",
   "mimetype": "text/x-r-source",
   "name": "R",
   "pygments_lexer": "r",
   "version": "3.3.1"
  }
 },
 "nbformat": 4,
 "nbformat_minor": 0
}
