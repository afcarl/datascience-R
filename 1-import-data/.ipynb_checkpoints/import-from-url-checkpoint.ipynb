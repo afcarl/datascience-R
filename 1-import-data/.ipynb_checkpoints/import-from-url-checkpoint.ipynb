{
 "cells": [
  {
   "cell_type": "code",
   "execution_count": 1,
   "metadata": {
    "collapsed": true
   },
   "outputs": [],
   "source": [
    "library(readr)"
   ]
  },
  {
   "cell_type": "code",
   "execution_count": 2,
   "metadata": {
    "collapsed": true
   },
   "outputs": [],
   "source": [
    "url_csv <- \"http://s3.amazonaws.com/assets.datacamp.com/production/course_1478/datasets/swimming_pools.csv\""
   ]
  },
  {
   "cell_type": "code",
   "execution_count": 4,
   "metadata": {
    "collapsed": false
   },
   "outputs": [
    {
     "data": {
      "text/html": [
       "<table>\n",
       "<thead><tr><th scope=col>Name</th><th scope=col>Address</th><th scope=col>Latitude</th><th scope=col>Longitude</th></tr></thead>\n",
       "<tbody>\n",
       "\t<tr><td>Acacia Ridge Leisure Centre               </td><td>1391 Beaudesert Road, Acacia Ridge        </td><td>-27.58616                                 </td><td>153.0264                                  </td></tr>\n",
       "\t<tr><td>Bellbowrie Pool                           </td><td>Sugarwood Street, Bellbowrie              </td><td>-27.56547                                 </td><td>152.8911                                  </td></tr>\n",
       "\t<tr><td>Carole Park                               </td><td>Cnr Boundary Road and Waterford Road Wacol</td><td>-27.60744                                 </td><td>152.9315                                  </td></tr>\n",
       "\t<tr><td>Centenary Pool (inner City)               </td><td>400 Gregory Terrace, Spring Hill          </td><td>-27.45537                                 </td><td>153.0251                                  </td></tr>\n",
       "\t<tr><td>Chermside Pool                            </td><td>375 Hamilton Road, Chermside              </td><td>-27.38583                                 </td><td>153.0351                                  </td></tr>\n",
       "\t<tr><td>Colmslie Pool (Morningside)               </td><td>400 Lytton Road, Morningside              </td><td>-27.45516                                 </td><td>153.0789                                  </td></tr>\n",
       "</tbody>\n",
       "</table>\n"
      ],
      "text/latex": [
       "\\begin{tabular}{r|llll}\n",
       " Name & Address & Latitude & Longitude\\\\\n",
       "\\hline\n",
       "\t Acacia Ridge Leisure Centre                & 1391 Beaudesert Road, Acacia Ridge         & -27.58616                                  & 153.0264                                  \\\\\n",
       "\t Bellbowrie Pool                            & Sugarwood Street, Bellbowrie               & -27.56547                                  & 152.8911                                  \\\\\n",
       "\t Carole Park                                & Cnr Boundary Road and Waterford Road Wacol & -27.60744                                  & 152.9315                                  \\\\\n",
       "\t Centenary Pool (inner City)                & 400 Gregory Terrace, Spring Hill           & -27.45537                                  & 153.0251                                  \\\\\n",
       "\t Chermside Pool                             & 375 Hamilton Road, Chermside               & -27.38583                                  & 153.0351                                  \\\\\n",
       "\t Colmslie Pool (Morningside)                & 400 Lytton Road, Morningside               & -27.45516                                  & 153.0789                                  \\\\\n",
       "\\end{tabular}\n"
      ],
      "text/markdown": [
       "\n",
       "Name | Address | Latitude | Longitude | \n",
       "|---|---|---|---|---|---|\n",
       "| Acacia Ridge Leisure Centre                | 1391 Beaudesert Road, Acacia Ridge         | -27.58616                                  | 153.0264                                   | \n",
       "| Bellbowrie Pool                            | Sugarwood Street, Bellbowrie               | -27.56547                                  | 152.8911                                   | \n",
       "| Carole Park                                | Cnr Boundary Road and Waterford Road Wacol | -27.60744                                  | 152.9315                                   | \n",
       "| Centenary Pool (inner City)                | 400 Gregory Terrace, Spring Hill           | -27.45537                                  | 153.0251                                   | \n",
       "| Chermside Pool                             | 375 Hamilton Road, Chermside               | -27.38583                                  | 153.0351                                   | \n",
       "| Colmslie Pool (Morningside)                | 400 Lytton Road, Morningside               | -27.45516                                  | 153.0789                                   | \n",
       "\n",
       "\n"
      ],
      "text/plain": [
       "  Name                        Address                                   \n",
       "1 Acacia Ridge Leisure Centre 1391 Beaudesert Road, Acacia Ridge        \n",
       "2 Bellbowrie Pool             Sugarwood Street, Bellbowrie              \n",
       "3 Carole Park                 Cnr Boundary Road and Waterford Road Wacol\n",
       "4 Centenary Pool (inner City) 400 Gregory Terrace, Spring Hill          \n",
       "5 Chermside Pool              375 Hamilton Road, Chermside              \n",
       "6 Colmslie Pool (Morningside) 400 Lytton Road, Morningside              \n",
       "  Latitude  Longitude\n",
       "1 -27.58616 153.0264 \n",
       "2 -27.56547 152.8911 \n",
       "3 -27.60744 152.9315 \n",
       "4 -27.45537 153.0251 \n",
       "5 -27.38583 153.0351 \n",
       "6 -27.45516 153.0789 "
      ]
     },
     "metadata": {},
     "output_type": "display_data"
    }
   ],
   "source": [
    "swimming_pools <- read.csv(url_csv)\n",
    "head(swimming_pools)"
   ]
  },
  {
   "cell_type": "code",
   "execution_count": 5,
   "metadata": {
    "collapsed": false
   },
   "outputs": [
    {
     "name": "stderr",
     "output_type": "stream",
     "text": [
      "Parsed with column specification:\n",
      "cols(\n",
      "  Name = col_character(),\n",
      "  Address = col_character(),\n",
      "  Latitude = col_double(),\n",
      "  Longitude = col_double()\n",
      ")\n"
     ]
    },
    {
     "data": {
      "text/html": [
       "<table>\n",
       "<thead><tr><th scope=col>Name</th><th scope=col>Address</th><th scope=col>Latitude</th><th scope=col>Longitude</th></tr></thead>\n",
       "<tbody>\n",
       "\t<tr><td>Acacia Ridge Leisure Centre               </td><td>1391 Beaudesert Road, Acacia Ridge        </td><td>-27.58616                                 </td><td>153.0264                                  </td></tr>\n",
       "\t<tr><td>Bellbowrie Pool                           </td><td>Sugarwood Street, Bellbowrie              </td><td>-27.56547                                 </td><td>152.8911                                  </td></tr>\n",
       "\t<tr><td>Carole Park                               </td><td>Cnr Boundary Road and Waterford Road Wacol</td><td>-27.60744                                 </td><td>152.9315                                  </td></tr>\n",
       "\t<tr><td>Centenary Pool (inner City)               </td><td>400 Gregory Terrace, Spring Hill          </td><td>-27.45537                                 </td><td>153.0251                                  </td></tr>\n",
       "\t<tr><td>Chermside Pool                            </td><td>375 Hamilton Road, Chermside              </td><td>-27.38583                                 </td><td>153.0351                                  </td></tr>\n",
       "\t<tr><td>Colmslie Pool (Morningside)               </td><td>400 Lytton Road, Morningside              </td><td>-27.45516                                 </td><td>153.0789                                  </td></tr>\n",
       "</tbody>\n",
       "</table>\n"
      ],
      "text/latex": [
       "\\begin{tabular}{r|llll}\n",
       " Name & Address & Latitude & Longitude\\\\\n",
       "\\hline\n",
       "\t Acacia Ridge Leisure Centre                & 1391 Beaudesert Road, Acacia Ridge         & -27.58616                                  & 153.0264                                  \\\\\n",
       "\t Bellbowrie Pool                            & Sugarwood Street, Bellbowrie               & -27.56547                                  & 152.8911                                  \\\\\n",
       "\t Carole Park                                & Cnr Boundary Road and Waterford Road Wacol & -27.60744                                  & 152.9315                                  \\\\\n",
       "\t Centenary Pool (inner City)                & 400 Gregory Terrace, Spring Hill           & -27.45537                                  & 153.0251                                  \\\\\n",
       "\t Chermside Pool                             & 375 Hamilton Road, Chermside               & -27.38583                                  & 153.0351                                  \\\\\n",
       "\t Colmslie Pool (Morningside)                & 400 Lytton Road, Morningside               & -27.45516                                  & 153.0789                                  \\\\\n",
       "\\end{tabular}\n"
      ],
      "text/markdown": [
       "\n",
       "Name | Address | Latitude | Longitude | \n",
       "|---|---|---|---|---|---|\n",
       "| Acacia Ridge Leisure Centre                | 1391 Beaudesert Road, Acacia Ridge         | -27.58616                                  | 153.0264                                   | \n",
       "| Bellbowrie Pool                            | Sugarwood Street, Bellbowrie               | -27.56547                                  | 152.8911                                   | \n",
       "| Carole Park                                | Cnr Boundary Road and Waterford Road Wacol | -27.60744                                  | 152.9315                                   | \n",
       "| Centenary Pool (inner City)                | 400 Gregory Terrace, Spring Hill           | -27.45537                                  | 153.0251                                   | \n",
       "| Chermside Pool                             | 375 Hamilton Road, Chermside               | -27.38583                                  | 153.0351                                   | \n",
       "| Colmslie Pool (Morningside)                | 400 Lytton Road, Morningside               | -27.45516                                  | 153.0789                                   | \n",
       "\n",
       "\n"
      ],
      "text/plain": [
       "  Name                        Address                                   \n",
       "1 Acacia Ridge Leisure Centre 1391 Beaudesert Road, Acacia Ridge        \n",
       "2 Bellbowrie Pool             Sugarwood Street, Bellbowrie              \n",
       "3 Carole Park                 Cnr Boundary Road and Waterford Road Wacol\n",
       "4 Centenary Pool (inner City) 400 Gregory Terrace, Spring Hill          \n",
       "5 Chermside Pool              375 Hamilton Road, Chermside              \n",
       "6 Colmslie Pool (Morningside) 400 Lytton Road, Morningside              \n",
       "  Latitude  Longitude\n",
       "1 -27.58616 153.0264 \n",
       "2 -27.56547 152.8911 \n",
       "3 -27.60744 152.9315 \n",
       "4 -27.45537 153.0251 \n",
       "5 -27.38583 153.0351 \n",
       "6 -27.45516 153.0789 "
      ]
     },
     "metadata": {},
     "output_type": "display_data"
    }
   ],
   "source": [
    "swimming_pools <- read_csv(url_csv)\n",
    "head(swimming_pools)"
   ]
  },
  {
   "cell_type": "code",
   "execution_count": null,
   "metadata": {
    "collapsed": true
   },
   "outputs": [],
   "source": []
  }
 ],
 "metadata": {
  "kernelspec": {
   "display_name": "R",
   "language": "R",
   "name": "ir"
  },
  "language_info": {
   "codemirror_mode": "r",
   "file_extension": ".r",
   "mimetype": "text/x-r-source",
   "name": "R",
   "pygments_lexer": "r",
   "version": "3.3.1"
  }
 },
 "nbformat": 4,
 "nbformat_minor": 0
}
