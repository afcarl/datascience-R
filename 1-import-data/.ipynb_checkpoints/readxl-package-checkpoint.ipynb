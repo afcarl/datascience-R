{
 "cells": [
  {
   "cell_type": "code",
   "execution_count": 1,
   "metadata": {
    "collapsed": false
   },
   "outputs": [
    {
     "name": "stderr",
     "output_type": "stream",
     "text": [
      "Installing package into ‘/home/duyetdev/R/x86_64-pc-linux-gnu-library/3.3’\n",
      "(as ‘lib’ is unspecified)\n"
     ]
    }
   ],
   "source": [
    "install.packages('readxl')"
   ]
  },
  {
   "cell_type": "code",
   "execution_count": 2,
   "metadata": {
    "collapsed": true
   },
   "outputs": [],
   "source": [
    "library(readxl)"
   ]
  },
  {
   "cell_type": "markdown",
   "metadata": {},
   "source": [
    "# Xử lý với file exel trong R \n",
    "\n",
    "Sử dụng package `readxl` để đọc file [urbanpop.xlsx](urbanpop.xlsx)\n",
    "\n",
    "* `excel_sheets()`: liệt kê danh sách sheet \n",
    "* `read_excel()`: import excel to data.frame."
   ]
  },
  {
   "cell_type": "code",
   "execution_count": 4,
   "metadata": {
    "collapsed": false
   },
   "outputs": [
    {
     "data": {
      "text/html": [
       "<ol class=list-inline>\n",
       "\t<li>'1960-1966'</li>\n",
       "\t<li>'1967-1974'</li>\n",
       "\t<li>'1975-2011'</li>\n",
       "</ol>\n"
      ],
      "text/latex": [
       "\\begin{enumerate*}\n",
       "\\item '1960-1966'\n",
       "\\item '1967-1974'\n",
       "\\item '1975-2011'\n",
       "\\end{enumerate*}\n"
      ],
      "text/markdown": [
       "1. '1960-1966'\n",
       "2. '1967-1974'\n",
       "3. '1975-2011'\n",
       "\n",
       "\n"
      ],
      "text/plain": [
       "[1] \"1960-1966\" \"1967-1974\" \"1975-2011\""
      ]
     },
     "metadata": {},
     "output_type": "display_data"
    }
   ],
   "source": [
    "# Liệt kê danh sách các sheet với hàm excel_sheets()\n",
    "sheets <- excel_sheets(\"urbanpop.xlsx\")\n",
    "sheets"
   ]
  },
  {
   "cell_type": "code",
   "execution_count": 7,
   "metadata": {
    "collapsed": false
   },
   "outputs": [
    {
     "data": {
      "text/html": [
       "<table>\n",
       "<thead><tr><th scope=col>country</th><th scope=col>1960</th><th scope=col>1961</th><th scope=col>1962</th><th scope=col>1963</th><th scope=col>1964</th><th scope=col>1965</th><th scope=col>1966</th></tr></thead>\n",
       "<tbody>\n",
       "\t<tr><td>Afghanistan   </td><td> 769308       </td><td> 814923.049   </td><td> 858521.698   </td><td> 903913.86    </td><td> 951225.94    </td><td>1000582.35    </td><td>1058743.47    </td></tr>\n",
       "\t<tr><td>Albania       </td><td> 494443       </td><td> 511802.780   </td><td> 529438.851   </td><td> 547376.75    </td><td> 565571.75    </td><td> 583982.89    </td><td> 602512.17    </td></tr>\n",
       "\t<tr><td>Algeria       </td><td>3293999       </td><td>3515147.548   </td><td>3739963.007   </td><td>3973289.13    </td><td>4220987.01    </td><td>4488175.64    </td><td>4649105.24    </td></tr>\n",
       "\t<tr><td>American Samoa</td><td>     NA       </td><td>  13660.298   </td><td>  14165.797   </td><td>  14758.93    </td><td>  15396.42    </td><td>  16044.82    </td><td>  16693.11    </td></tr>\n",
       "\t<tr><td>Andorra       </td><td>     NA       </td><td>   8723.921   </td><td>   9700.346   </td><td>  10748.38    </td><td>  11865.86    </td><td>  13052.75    </td><td>  14216.81    </td></tr>\n",
       "\t<tr><td>Angola        </td><td> 521205       </td><td> 548265.046   </td><td> 579695.370   </td><td> 612086.70    </td><td> 645261.59    </td><td> 679109.12    </td><td> 717833.40    </td></tr>\n",
       "</tbody>\n",
       "</table>\n"
      ],
      "text/latex": [
       "\\begin{tabular}{r|llllllll}\n",
       " country & 1960 & 1961 & 1962 & 1963 & 1964 & 1965 & 1966\\\\\n",
       "\\hline\n",
       "\t Afghanistan    &  769308        &  814923.049    &  858521.698    &  903913.86     &  951225.94     & 1000582.35     & 1058743.47    \\\\\n",
       "\t Albania        &  494443        &  511802.780    &  529438.851    &  547376.75     &  565571.75     &  583982.89     &  602512.17    \\\\\n",
       "\t Algeria        & 3293999        & 3515147.548    & 3739963.007    & 3973289.13     & 4220987.01     & 4488175.64     & 4649105.24    \\\\\n",
       "\t American Samoa &      NA        &   13660.298    &   14165.797    &   14758.93     &   15396.42     &   16044.82     &   16693.11    \\\\\n",
       "\t Andorra        &      NA        &    8723.921    &    9700.346    &   10748.38     &   11865.86     &   13052.75     &   14216.81    \\\\\n",
       "\t Angola         &  521205        &  548265.046    &  579695.370    &  612086.70     &  645261.59     &  679109.12     &  717833.40    \\\\\n",
       "\\end{tabular}\n"
      ],
      "text/markdown": [
       "\n",
       "country | 1960 | 1961 | 1962 | 1963 | 1964 | 1965 | 1966 | \n",
       "|---|---|---|---|---|---|\n",
       "| Afghanistan    |  769308        |  814923.049    |  858521.698    |  903913.86     |  951225.94     | 1000582.35     | 1058743.47     | \n",
       "| Albania        |  494443        |  511802.780    |  529438.851    |  547376.75     |  565571.75     |  583982.89     |  602512.17     | \n",
       "| Algeria        | 3293999        | 3515147.548    | 3739963.007    | 3973289.13     | 4220987.01     | 4488175.64     | 4649105.24     | \n",
       "| American Samoa |      NA        |   13660.298    |   14165.797    |   14758.93     |   15396.42     |   16044.82     |   16693.11     | \n",
       "| Andorra        |      NA        |    8723.921    |    9700.346    |   10748.38     |   11865.86     |   13052.75     |   14216.81     | \n",
       "| Angola         |  521205        |  548265.046    |  579695.370    |  612086.70     |  645261.59     |  679109.12     |  717833.40     | \n",
       "\n",
       "\n"
      ],
      "text/plain": [
       "  country        1960    1961        1962        1963       1964      \n",
       "1 Afghanistan     769308  814923.049  858521.698  903913.86  951225.94\n",
       "2 Albania         494443  511802.780  529438.851  547376.75  565571.75\n",
       "3 Algeria        3293999 3515147.548 3739963.007 3973289.13 4220987.01\n",
       "4 American Samoa      NA   13660.298   14165.797   14758.93   15396.42\n",
       "5 Andorra             NA    8723.921    9700.346   10748.38   11865.86\n",
       "6 Angola          521205  548265.046  579695.370  612086.70  645261.59\n",
       "  1965       1966      \n",
       "1 1000582.35 1058743.47\n",
       "2  583982.89  602512.17\n",
       "3 4488175.64 4649105.24\n",
       "4   16044.82   16693.11\n",
       "5   13052.75   14216.81\n",
       "6  679109.12  717833.40"
      ]
     },
     "metadata": {},
     "output_type": "display_data"
    }
   ],
   "source": [
    "data <- read_excel(\"urbanpop.xlsx\", sheet = '1960-1966')\n",
    "head(data)"
   ]
  },
  {
   "cell_type": "code",
   "execution_count": 8,
   "metadata": {
    "collapsed": false
   },
   "outputs": [
    {
     "data": {
      "text/html": [
       "<table>\n",
       "<thead><tr><th scope=col>country</th><th scope=col>1967</th><th scope=col>1968</th><th scope=col>1969</th><th scope=col>1970</th><th scope=col>1971</th><th scope=col>1972</th><th scope=col>1973</th><th scope=col>1974</th></tr></thead>\n",
       "<tbody>\n",
       "\t<tr><td>Afghanistan   </td><td>1119067.20    </td><td>1182159.06    </td><td>1248900.79    </td><td>1319848.78    </td><td>1409001.09    </td><td>1502401.79    </td><td>1598835.45    </td><td>1696444.83    </td></tr>\n",
       "\t<tr><td>Albania       </td><td> 621179.85    </td><td> 639964.46    </td><td> 658853.12    </td><td> 677839.12    </td><td> 698932.25    </td><td> 720206.57    </td><td> 741681.04    </td><td> 763385.45    </td></tr>\n",
       "\t<tr><td>Algeria       </td><td>4826104.22    </td><td>5017298.60    </td><td>5219331.87    </td><td>5429743.08    </td><td>5619041.53    </td><td>5815734.49    </td><td>6020647.35    </td><td>6235114.38    </td></tr>\n",
       "\t<tr><td>American Samoa</td><td>  17348.66    </td><td>  17995.51    </td><td>  18618.68    </td><td>  19206.39    </td><td>  19752.02    </td><td>  20262.67    </td><td>  20741.97    </td><td>  21194.38    </td></tr>\n",
       "\t<tr><td>Andorra       </td><td>  15439.62    </td><td>  16726.99    </td><td>  18088.32    </td><td>  19528.96    </td><td>  20928.73    </td><td>  22405.84    </td><td>  23937.05    </td><td>  25481.98    </td></tr>\n",
       "\t<tr><td>Angola        </td><td> 757496.32    </td><td> 798459.26    </td><td> 841261.96    </td><td> 886401.63    </td><td> 955010.09    </td><td>1027397.35    </td><td>1103829.78    </td><td>1184486.23    </td></tr>\n",
       "</tbody>\n",
       "</table>\n"
      ],
      "text/latex": [
       "\\begin{tabular}{r|lllllllll}\n",
       " country & 1967 & 1968 & 1969 & 1970 & 1971 & 1972 & 1973 & 1974\\\\\n",
       "\\hline\n",
       "\t Afghanistan    & 1119067.20     & 1182159.06     & 1248900.79     & 1319848.78     & 1409001.09     & 1502401.79     & 1598835.45     & 1696444.83    \\\\\n",
       "\t Albania        &  621179.85     &  639964.46     &  658853.12     &  677839.12     &  698932.25     &  720206.57     &  741681.04     &  763385.45    \\\\\n",
       "\t Algeria        & 4826104.22     & 5017298.60     & 5219331.87     & 5429743.08     & 5619041.53     & 5815734.49     & 6020647.35     & 6235114.38    \\\\\n",
       "\t American Samoa &   17348.66     &   17995.51     &   18618.68     &   19206.39     &   19752.02     &   20262.67     &   20741.97     &   21194.38    \\\\\n",
       "\t Andorra        &   15439.62     &   16726.99     &   18088.32     &   19528.96     &   20928.73     &   22405.84     &   23937.05     &   25481.98    \\\\\n",
       "\t Angola         &  757496.32     &  798459.26     &  841261.96     &  886401.63     &  955010.09     & 1027397.35     & 1103829.78     & 1184486.23    \\\\\n",
       "\\end{tabular}\n"
      ],
      "text/markdown": [
       "\n",
       "country | 1967 | 1968 | 1969 | 1970 | 1971 | 1972 | 1973 | 1974 | \n",
       "|---|---|---|---|---|---|\n",
       "| Afghanistan    | 1119067.20     | 1182159.06     | 1248900.79     | 1319848.78     | 1409001.09     | 1502401.79     | 1598835.45     | 1696444.83     | \n",
       "| Albania        |  621179.85     |  639964.46     |  658853.12     |  677839.12     |  698932.25     |  720206.57     |  741681.04     |  763385.45     | \n",
       "| Algeria        | 4826104.22     | 5017298.60     | 5219331.87     | 5429743.08     | 5619041.53     | 5815734.49     | 6020647.35     | 6235114.38     | \n",
       "| American Samoa |   17348.66     |   17995.51     |   18618.68     |   19206.39     |   19752.02     |   20262.67     |   20741.97     |   21194.38     | \n",
       "| Andorra        |   15439.62     |   16726.99     |   18088.32     |   19528.96     |   20928.73     |   22405.84     |   23937.05     |   25481.98     | \n",
       "| Angola         |  757496.32     |  798459.26     |  841261.96     |  886401.63     |  955010.09     | 1027397.35     | 1103829.78     | 1184486.23     | \n",
       "\n",
       "\n"
      ],
      "text/plain": [
       "  country        1967       1968       1969       1970       1971      \n",
       "1 Afghanistan    1119067.20 1182159.06 1248900.79 1319848.78 1409001.09\n",
       "2 Albania         621179.85  639964.46  658853.12  677839.12  698932.25\n",
       "3 Algeria        4826104.22 5017298.60 5219331.87 5429743.08 5619041.53\n",
       "4 American Samoa   17348.66   17995.51   18618.68   19206.39   19752.02\n",
       "5 Andorra          15439.62   16726.99   18088.32   19528.96   20928.73\n",
       "6 Angola          757496.32  798459.26  841261.96  886401.63  955010.09\n",
       "  1972       1973       1974      \n",
       "1 1502401.79 1598835.45 1696444.83\n",
       "2  720206.57  741681.04  763385.45\n",
       "3 5815734.49 6020647.35 6235114.38\n",
       "4   20262.67   20741.97   21194.38\n",
       "5   22405.84   23937.05   25481.98\n",
       "6 1027397.35 1103829.78 1184486.23"
      ]
     },
     "metadata": {},
     "output_type": "display_data"
    }
   ],
   "source": [
    "data <- read_excel(\"urbanpop.xlsx\", sheet = 2) # Đọc sheet 2\n",
    "head(data)"
   ]
  },
  {
   "cell_type": "markdown",
   "metadata": {},
   "source": [
    "# Đọc tất cả sheet "
   ]
  },
  {
   "cell_type": "code",
   "execution_count": 9,
   "metadata": {
    "collapsed": true
   },
   "outputs": [],
   "source": [
    "my_workbook <- lapply(excel_sheets(\"urbanpop.xlsx\"),\n",
    "                      read_excel,\n",
    "                      path = \"urbanpop.xlsx\")"
   ]
  },
  {
   "cell_type": "code",
   "execution_count": null,
   "metadata": {
    "collapsed": false
   },
   "outputs": [],
   "source": [
    "my_workbook"
   ]
  },
  {
   "cell_type": "code",
   "execution_count": null,
   "metadata": {
    "collapsed": true
   },
   "outputs": [],
   "source": []
  }
 ],
 "metadata": {
  "kernelspec": {
   "display_name": "R",
   "language": "R",
   "name": "ir"
  },
  "language_info": {
   "codemirror_mode": "r",
   "file_extension": ".r",
   "mimetype": "text/x-r-source",
   "name": "R",
   "pygments_lexer": "r",
   "version": "3.3.1"
  }
 },
 "nbformat": 4,
 "nbformat_minor": 0
}
