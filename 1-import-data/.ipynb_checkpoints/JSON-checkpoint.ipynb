{
 "cells": [
  {
   "cell_type": "markdown",
   "metadata": {},
   "source": [
    "# jsonlite\n",
    "\n",
    "Một dạng dữ liệu cũng khá phổ biến trên Internet là JSON. R có thể đọc file JSON, sử dụng package `jsonlite`"
   ]
  },
  {
   "cell_type": "code",
   "execution_count": 1,
   "metadata": {
    "collapsed": false
   },
   "outputs": [
    {
     "name": "stderr",
     "output_type": "stream",
     "text": [
      "Installing package into ‘/home/duyetdev/R/x86_64-pc-linux-gnu-library/3.3’\n",
      "(as ‘lib’ is unspecified)\n"
     ]
    }
   ],
   "source": [
    "install.packages('jsonlite')"
   ]
  },
  {
   "cell_type": "code",
   "execution_count": 2,
   "metadata": {
    "collapsed": true
   },
   "outputs": [],
   "source": [
    "library(jsonlite)"
   ]
  },
  {
   "cell_type": "code",
   "execution_count": null,
   "metadata": {
    "collapsed": true
   },
   "outputs": [],
   "source": []
  },
  {
   "cell_type": "code",
   "execution_count": 3,
   "metadata": {
    "collapsed": true
   },
   "outputs": [],
   "source": [
    "wine_json <- '{\"name\":\"Chateau Migraine\", \"year\":1997, \"alcohol_pct\":12.4, \"color\":\"red\", \"awarded\":false}'"
   ]
  },
  {
   "cell_type": "code",
   "execution_count": 6,
   "metadata": {
    "collapsed": false
   },
   "outputs": [
    {
     "name": "stdout",
     "output_type": "stream",
     "text": [
      "List of 5\n",
      " $ name       : chr \"Chateau Migraine\"\n",
      " $ year       : int 1997\n",
      " $ alcohol_pct: num 12.4\n",
      " $ color      : chr \"red\"\n",
      " $ awarded    : logi FALSE\n"
     ]
    }
   ],
   "source": [
    "wine <- fromJSON(wine_json)\n",
    "str(wine)"
   ]
  },
  {
   "cell_type": "code",
   "execution_count": 9,
   "metadata": {
    "collapsed": false
   },
   "outputs": [
    {
     "data": {
      "text/html": [
       "<dl>\n",
       "\t<dt>$name</dt>\n",
       "\t\t<dd>'Chateau Migraine'</dd>\n",
       "\t<dt>$year</dt>\n",
       "\t\t<dd>1997</dd>\n",
       "\t<dt>$alcohol_pct</dt>\n",
       "\t\t<dd>12.4</dd>\n",
       "\t<dt>$color</dt>\n",
       "\t\t<dd>'red'</dd>\n",
       "\t<dt>$awarded</dt>\n",
       "\t\t<dd>FALSE</dd>\n",
       "</dl>\n"
      ],
      "text/latex": [
       "\\begin{description}\n",
       "\\item[\\$name] 'Chateau Migraine'\n",
       "\\item[\\$year] 1997\n",
       "\\item[\\$alcohol\\_pct] 12.4\n",
       "\\item[\\$color] 'red'\n",
       "\\item[\\$awarded] FALSE\n",
       "\\end{description}\n"
      ],
      "text/markdown": [
       "$name\n",
       ":   'Chateau Migraine'\n",
       "$year\n",
       ":   1997\n",
       "$alcohol_pct\n",
       ":   12.4\n",
       "$color\n",
       ":   'red'\n",
       "$awarded\n",
       ":   FALSE\n",
       "\n",
       "\n"
      ],
      "text/plain": [
       "$name\n",
       "[1] \"Chateau Migraine\"\n",
       "\n",
       "$year\n",
       "[1] 1997\n",
       "\n",
       "$alcohol_pct\n",
       "[1] 12.4\n",
       "\n",
       "$color\n",
       "[1] \"red\"\n",
       "\n",
       "$awarded\n",
       "[1] FALSE\n"
      ]
     },
     "metadata": {},
     "output_type": "display_data"
    }
   ],
   "source": [
    "wine"
   ]
  },
  {
   "cell_type": "code",
   "execution_count": 10,
   "metadata": {
    "collapsed": false
   },
   "outputs": [
    {
     "data": {
      "text/html": [
       "'Chateau Migraine'"
      ],
      "text/latex": [
       "'Chateau Migraine'"
      ],
      "text/markdown": [
       "'Chateau Migraine'"
      ],
      "text/plain": [
       "[1] \"Chateau Migraine\""
      ]
     },
     "metadata": {},
     "output_type": "display_data"
    }
   ],
   "source": [
    "wine$name"
   ]
  },
  {
   "cell_type": "markdown",
   "metadata": {},
   "source": [
    "## from URL\n",
    "\n",
    "`fromJSON()` cũng có thể đọc JSON từ URL"
   ]
  },
  {
   "cell_type": "code",
   "execution_count": 11,
   "metadata": {
    "collapsed": true
   },
   "outputs": [],
   "source": [
    "quandl_url <- \"http://www.quandl.com/api/v1/datasets/IWS/INTERNET_INDIA.json?auth_token=i83asDsiWUUyfoypkgMz\"\n",
    "quandl_data <- fromJSON(quandl_url)"
   ]
  },
  {
   "cell_type": "code",
   "execution_count": 12,
   "metadata": {
    "collapsed": false
   },
   "outputs": [
    {
     "data": {
      "text/plain": [
       "$errors\n",
       "named list()\n",
       "\n",
       "$id\n",
       "[1] 2351831\n",
       "\n",
       "$source_name\n",
       "[1] \"Internet World Stats\"\n",
       "\n",
       "$source_code\n",
       "[1] \"IWS\"\n",
       "\n",
       "$code\n",
       "[1] \"INTERNET_INDIA\"\n",
       "\n",
       "$name\n",
       "[1] \"India Internet Usage\"\n",
       "\n",
       "$urlize_name\n",
       "[1] \"India-Internet-Usage\"\n",
       "\n",
       "$display_url\n",
       "[1] \"http://www.internetworldstats.com/asia/in.htm\"\n",
       "\n",
       "$description\n",
       "[1] \"Internet Usage and Population Statistics\"\n",
       "\n",
       "$updated_at\n",
       "[1] \"2016-01-01T04:23:55.235Z\"\n",
       "\n",
       "$frequency\n",
       "[1] \"annual\"\n",
       "\n",
       "$from_date\n",
       "[1] \"1998-12-31\"\n",
       "\n",
       "$to_date\n",
       "[1] \"2012-12-31\"\n",
       "\n",
       "$column_names\n",
       "[1] \"YEAR\"       \"Users\"      \"Population\" \"% Pen.\"    \n",
       "\n",
       "$private\n",
       "[1] FALSE\n",
       "\n",
       "$type\n",
       "NULL\n",
       "\n",
       "$premium\n",
       "[1] FALSE\n",
       "\n",
       "$data\n",
       "      [,1]         [,2]       [,3]         [,4]  \n",
       " [1,] \"2012-12-31\" \"1.37e+08\" \"1205073612\" \"11.4\"\n",
       " [2,] \"2010-12-31\" \"1e+08\"    \"1173108018\" \"8.5\" \n",
       " [3,] \"2009-12-31\" \"8.1e+07\"  \"1156897766\" \"7\"   \n",
       " [4,] \"2007-12-31\" \"4.2e+07\"  \"1129667528\" \"3.7\" \n",
       " [5,] \"2006-12-31\" \"4e+07\"    \"1112225812\" \"3.6\" \n",
       " [6,] \"2005-12-31\" \"50600000\" \"1112225812\" \"4.5\" \n",
       " [7,] \"2004-12-31\" \"39200000\" \"1094870677\" \"3.6\" \n",
       " [8,] \"2003-12-31\" \"22500000\" \"1094870677\" \"2.1\" \n",
       " [9,] \"2002-12-31\" \"16500000\" \"1094870677\" \"1.6\" \n",
       "[10,] \"2001-12-31\" \"7e+06\"    \"1094870677\" \"0.7\" \n",
       "[11,] \"2000-12-31\" \"5500000\"  \"1094870677\" \"0.5\" \n",
       "[12,] \"1999-12-31\" \"2800000\"  \"1094870677\" \"0.3\" \n",
       "[13,] \"1998-12-31\" \"1400000\"  \"1094870677\" \"0.1\" \n"
      ]
     },
     "metadata": {},
     "output_type": "display_data"
    }
   ],
   "source": [
    "quandl_data"
   ]
  },
  {
   "cell_type": "markdown",
   "metadata": {},
   "source": [
    "# toJSON()\n",
    "\n",
    "Convert data.frame sang JSON String"
   ]
  },
  {
   "cell_type": "code",
   "execution_count": 18,
   "metadata": {
    "collapsed": false
   },
   "outputs": [
    {
     "data": {
      "text/html": [
       "<table>\n",
       "<thead><tr><th scope=col>water</th><th scope=col>X1992</th><th scope=col>X1997</th><th scope=col>X2002</th><th scope=col>X2007</th></tr></thead>\n",
       "<tbody>\n",
       "\t<tr><td>Algeria            </td><td>0.064000000        </td><td>         NA        </td><td>0.017000000        </td><td>NA                 </td></tr>\n",
       "\t<tr><td>American Samoa     </td><td>         NA        </td><td>         NA        </td><td>         NA        </td><td>NA                 </td></tr>\n",
       "\t<tr><td>Angola             </td><td>0.000138000        </td><td>         NA        </td><td>0.000138000        </td><td>NA                 </td></tr>\n",
       "\t<tr><td>Antigua and Barbuda</td><td>0.003300000        </td><td>         NA        </td><td>         NA        </td><td>NA                 </td></tr>\n",
       "\t<tr><td>Argentina          </td><td>0.000749345        </td><td>0.000749345        </td><td>0.000749345        </td><td>NA                 </td></tr>\n",
       "\t<tr><td>Australia          </td><td>0.029755895        </td><td>         NA        </td><td>0.029755895        </td><td>NA                 </td></tr>\n",
       "</tbody>\n",
       "</table>\n"
      ],
      "text/latex": [
       "\\begin{tabular}{r|lllll}\n",
       " water & X1992 & X1997 & X2002 & X2007\\\\\n",
       "\\hline\n",
       "\t Algeria             & 0.064000000         &          NA         & 0.017000000         & NA                 \\\\\n",
       "\t American Samoa      &          NA         &          NA         &          NA         & NA                 \\\\\n",
       "\t Angola              & 0.000138000         &          NA         & 0.000138000         & NA                 \\\\\n",
       "\t Antigua and Barbuda & 0.003300000         &          NA         &          NA         & NA                 \\\\\n",
       "\t Argentina           & 0.000749345         & 0.000749345         & 0.000749345         & NA                 \\\\\n",
       "\t Australia           & 0.029755895         &          NA         & 0.029755895         & NA                 \\\\\n",
       "\\end{tabular}\n"
      ],
      "text/markdown": [
       "\n",
       "water | X1992 | X1997 | X2002 | X2007 | \n",
       "|---|---|---|---|---|---|\n",
       "| Algeria             | 0.064000000         |          NA         | 0.017000000         | NA                  | \n",
       "| American Samoa      |          NA         |          NA         |          NA         | NA                  | \n",
       "| Angola              | 0.000138000         |          NA         | 0.000138000         | NA                  | \n",
       "| Antigua and Barbuda | 0.003300000         |          NA         |          NA         | NA                  | \n",
       "| Argentina           | 0.000749345         | 0.000749345         | 0.000749345         | NA                  | \n",
       "| Australia           | 0.029755895         |          NA         | 0.029755895         | NA                  | \n",
       "\n",
       "\n"
      ],
      "text/plain": [
       "  water               X1992       X1997       X2002       X2007\n",
       "1 Algeria             0.064000000          NA 0.017000000 NA   \n",
       "2 American Samoa               NA          NA          NA NA   \n",
       "3 Angola              0.000138000          NA 0.000138000 NA   \n",
       "4 Antigua and Barbuda 0.003300000          NA          NA NA   \n",
       "5 Argentina           0.000749345 0.000749345 0.000749345 NA   \n",
       "6 Australia           0.029755895          NA 0.029755895 NA   "
      ]
     },
     "metadata": {},
     "output_type": "display_data"
    }
   ],
   "source": [
    "url_csv <- \"http://s3.amazonaws.com/assets.datacamp.com/production/course_1478/datasets/water.csv\"\n",
    "water <- read.csv(url_csv)\n",
    "\n",
    "water <- head(water)\n",
    "water"
   ]
  },
  {
   "cell_type": "code",
   "execution_count": 22,
   "metadata": {
    "collapsed": false
   },
   "outputs": [
    {
     "data": {
      "text/plain": [
       "[{\"water\":\"Algeria\",\"X1992\":0.064,\"X2002\":0.017},{\"water\":\"American Samoa\"},{\"water\":\"Angola\",\"X1992\":0.0001,\"X2002\":0.0001},{\"water\":\"Antigua and Barbuda\",\"X1992\":0.0033},{\"water\":\"Argentina\",\"X1992\":0.0007,\"X1997\":0.0007,\"X2002\":0.0007},{\"water\":\"Australia\",\"X1992\":0.0298,\"X2002\":0.0298}] "
      ]
     },
     "metadata": {},
     "output_type": "display_data"
    }
   ],
   "source": [
    "water_json <- toJSON(water)\n",
    "water_json"
   ]
  },
  {
   "cell_type": "markdown",
   "metadata": {},
   "source": [
    "# prettify() or minify() "
   ]
  },
  {
   "cell_type": "code",
   "execution_count": 23,
   "metadata": {
    "collapsed": false
   },
   "outputs": [
    {
     "data": {
      "text/plain": [
       "[\n",
       "    {\n",
       "        \"water\": \"Algeria\",\n",
       "        \"X1992\": 0.064,\n",
       "        \"X2002\": 0.017\n",
       "    },\n",
       "    {\n",
       "        \"water\": \"American Samoa\"\n",
       "    },\n",
       "    {\n",
       "        \"water\": \"Angola\",\n",
       "        \"X1992\": 0.0001,\n",
       "        \"X2002\": 0.0001\n",
       "    },\n",
       "    {\n",
       "        \"water\": \"Antigua and Barbuda\",\n",
       "        \"X1992\": 0.0033\n",
       "    },\n",
       "    {\n",
       "        \"water\": \"Argentina\",\n",
       "        \"X1992\": 0.0007,\n",
       "        \"X1997\": 0.0007,\n",
       "        \"X2002\": 0.0007\n",
       "    },\n",
       "    {\n",
       "        \"water\": \"Australia\",\n",
       "        \"X1992\": 0.0298,\n",
       "        \"X2002\": 0.0298\n",
       "    }\n",
       "]\n",
       " "
      ]
     },
     "metadata": {},
     "output_type": "display_data"
    }
   ],
   "source": [
    "prettify(water_json)"
   ]
  },
  {
   "cell_type": "code",
   "execution_count": 24,
   "metadata": {
    "collapsed": false
   },
   "outputs": [
    {
     "data": {
      "text/plain": [
       "[{\"water\":\"Algeria\",\"X1992\":0.064,\"X2002\":0.017},{\"water\":\"American Samoa\"},{\"water\":\"Angola\",\"X1992\":0.0001,\"X2002\":0.0001},{\"water\":\"Antigua and Barbuda\",\"X1992\":0.0033},{\"water\":\"Argentina\",\"X1992\":0.0007,\"X1997\":0.0007,\"X2002\":0.0007},{\"water\":\"Australia\",\"X1992\":0.0298,\"X2002\":0.0298}] "
      ]
     },
     "metadata": {},
     "output_type": "display_data"
    }
   ],
   "source": [
    "minify(water_json)"
   ]
  },
  {
   "cell_type": "code",
   "execution_count": null,
   "metadata": {
    "collapsed": true
   },
   "outputs": [],
   "source": []
  }
 ],
 "metadata": {
  "kernelspec": {
   "display_name": "R",
   "language": "R",
   "name": "ir"
  },
  "language_info": {
   "codemirror_mode": "r",
   "file_extension": ".r",
   "mimetype": "text/x-r-source",
   "name": "R",
   "pygments_lexer": "r",
   "version": "3.3.1"
  }
 },
 "nbformat": 4,
 "nbformat_minor": 0
}
