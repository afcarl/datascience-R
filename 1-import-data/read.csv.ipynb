{
 "cells": [
  {
   "cell_type": "markdown",
   "metadata": {},
   "source": [
    "`utils` package tự động load khi `R` session khởi động, bạn có thể import **CSV files** bằng hàm `read.csv()`.\n",
    "\n",
    "\n",
    "# Goal \n",
    "1. Sử dụng `read.csv()` để import file `\"swimming_pools.csv\"` thành data frame `pools`.\n",
    "2. In cấu trúc data frame bằng hàm `str()`."
   ]
  },
  {
   "cell_type": "code",
   "execution_count": null,
   "metadata": {
    "collapsed": true
   },
   "outputs": [],
   "source": [
    "pools <- read.csv('swimming_pools.csv')"
   ]
  },
  {
   "cell_type": "code",
   "execution_count": null,
   "metadata": {
    "collapsed": true
   },
   "outputs": [],
   "source": [
    "str(pools)"
   ]
  }
 ],
 "metadata": {
  "kernelspec": {
   "display_name": "R",
   "language": "R",
   "name": "ir"
  },
  "language_info": {
   "codemirror_mode": "r",
   "file_extension": ".r",
   "mimetype": "text/x-r-source",
   "name": "R",
   "pygments_lexer": "r",
   "version": "3.3.1"
  }
 },
 "nbformat": 4,
 "nbformat_minor": 0
}
