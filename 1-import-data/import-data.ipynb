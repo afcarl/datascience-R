{
 "cells": [
  {
   "cell_type": "markdown",
   "metadata": {},
   "source": [
    "# read.csv\n",
    "\n",
    "`utils` package tự động load khi `R` session khởi động, bạn có thể import **CSV files** bằng hàm `read.csv()`.\n",
    " \n",
    "1. Sử dụng `read.csv()` để import file `\"swimming_pools.csv\"` thành data frame `pools`.\n",
    "2. In cấu trúc data frame bằng hàm `str()`."
   ]
  },
  {
   "cell_type": "code",
   "execution_count": 1,
   "metadata": {
    "collapsed": true
   },
   "outputs": [],
   "source": [
    "pools <- read.csv('swimming_pools.csv')"
   ]
  },
  {
   "cell_type": "code",
   "execution_count": 2,
   "metadata": {
    "collapsed": false
   },
   "outputs": [
    {
     "name": "stdout",
     "output_type": "stream",
     "text": [
      "'data.frame':\t20 obs. of  4 variables:\n",
      " $ Name     : Factor w/ 20 levels \"Acacia Ridge Leisure Centre\",..: 1 2 3 4 5 6 19 7 8 9 ...\n",
      " $ Address  : Factor w/ 20 levels \"100 Edmonstone Street, South Brisbane\",..: 4 20 18 10 8 11 5 15 12 17 ...\n",
      " $ Latitude : num  -27.6 -27.6 -27.6 -27.5 -27.4 ...\n",
      " $ Longitude: num  153 153 153 153 153 ...\n"
     ]
    }
   ],
   "source": [
    "# Check the structure of pools\n",
    "str(pools)"
   ]
  },
  {
   "cell_type": "markdown",
   "metadata": {},
   "source": [
    "# stringsAsFactors\n",
    "\n",
    "`stringsAsFactors` cho R biết khi nào nên convert dữ liệu thành dạng Factor, trong tất cả các hàm import của `utils`, mặc định là `stringsAsFactors = TRUE`\n",
    "\n",
    "Nếu ta set `stringsAsFactors = FALSE` thì tất cả dữ liệu được import sẽ giữ nguyên là string, có kiểu là `character`"
   ]
  },
  {
   "cell_type": "code",
   "execution_count": 3,
   "metadata": {
    "collapsed": true
   },
   "outputs": [],
   "source": [
    "# Import swimming_pools.csv correctly: pools\n",
    "pools <- read.csv('swimming_pools.csv', stringsAsFactors=FALSE)"
   ]
  },
  {
   "cell_type": "code",
   "execution_count": 4,
   "metadata": {
    "collapsed": false
   },
   "outputs": [
    {
     "name": "stdout",
     "output_type": "stream",
     "text": [
      "'data.frame':\t20 obs. of  4 variables:\n",
      " $ Name     : chr  \"Acacia Ridge Leisure Centre\" \"Bellbowrie Pool\" \"Carole Park\" \"Centenary Pool (inner City)\" ...\n",
      " $ Address  : chr  \"1391 Beaudesert Road, Acacia Ridge\" \"Sugarwood Street, Bellbowrie\" \"Cnr Boundary Road and Waterford Road Wacol\" \"400 Gregory Terrace, Spring Hill\" ...\n",
      " $ Latitude : num  -27.6 -27.6 -27.6 -27.5 -27.4 ...\n",
      " $ Longitude: num  153 153 153 153 153 ...\n"
     ]
    }
   ],
   "source": [
    "# Check the structure of pools\n",
    "str(pools)"
   ]
  },
  {
   "cell_type": "code",
   "execution_count": null,
   "metadata": {
    "collapsed": true
   },
   "outputs": [],
   "source": []
  },
  {
   "cell_type": "code",
   "execution_count": null,
   "metadata": {
    "collapsed": true
   },
   "outputs": [],
   "source": []
  }
 ],
 "metadata": {
  "kernelspec": {
   "display_name": "R",
   "language": "R",
   "name": "ir"
  },
  "language_info": {
   "codemirror_mode": "r",
   "file_extension": ".r",
   "mimetype": "text/x-r-source",
   "name": "R",
   "pygments_lexer": "r",
   "version": "3.3.1"
  }
 },
 "nbformat": 4,
 "nbformat_minor": 0
}
